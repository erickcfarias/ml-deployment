{
 "cells": [
  {
   "cell_type": "markdown",
   "metadata": {},
   "source": [
    "# TensorFlow script mode training and serving\n",
    "\n",
    "Script mode is a training script format for TensorFlow that lets you execute any TensorFlow training script in SageMaker with minimal modification. The [SageMaker Python SDK](https://github.com/aws/sagemaker-python-sdk) handles transferring your script to a SageMaker training instance. On the training instance, SageMaker's native TensorFlow support sets up training-related environment variables and executes your training script. In this tutorial, we use the SageMaker Python SDK to launch a training job and deploy the trained model.\n",
    "\n",
    "Script mode supports training with a Python script, a Python module, or a shell script. In this example, we use a Python script to train a classification model on the [MNIST dataset](http://yann.lecun.com/exdb/mnist/). In this example, we will show how easily you can train a SageMaker using TensorFlow 1.x and TensorFlow 2.0 scripts with SageMaker Python SDK. In addition, this notebook demonstrates how to perform real time inference with the [SageMaker TensorFlow Serving container](https://github.com/aws/sagemaker-tensorflow-serving-container). The TensorFlow Serving container is the default inference method for script mode. For full documentation on the TensorFlow Serving container, please visit [here](https://github.com/aws/sagemaker-python-sdk/blob/master/src/sagemaker/tensorflow/deploying_tensorflow_serving.rst).\n"
   ]
  },
  {
   "cell_type": "markdown",
   "metadata": {},
   "source": [
    "1. You will first define the problem you want to solve and investigate potential solutions.\n",
    "2. Next, you will analyze the problem through visualizations and data exploration to have a better understanding of what algorithms and features are appropriate for solving it.\n",
    "3.You will then implement your algorithms and metrics of choice, documenting the preprocessing, refinement, and post-processing steps along the way.\n",
    "4. Afterwards, you will collect results about your findings, visualize significant quantities, validate/justify your results, and make any concluding remarks about whether your implementation adequately solves the problem.\n",
    "5. Finally, you will construct a blog post to document all of the steps from start to finish of your project, or deploy your results into a web application."
   ]
  },
  {
   "cell_type": "markdown",
   "metadata": {},
   "source": [
    "# Set up the environment\n",
    "\n",
    "Let's start by setting up the environment:"
   ]
  },
  {
   "cell_type": "code",
   "execution_count": 25,
   "metadata": {},
   "outputs": [
    {
     "name": "stdout",
     "output_type": "stream",
     "text": [
      "Requirement already satisfied: pip in /home/ec2-user/anaconda3/envs/mxnet_latest_p37/lib/python3.7/site-packages (21.0)\n",
      "Collecting pip\n",
      "  Using cached pip-21.0-py3-none-any.whl (1.5 MB)\n",
      "  Downloading pip-20.3.4-py2.py3-none-any.whl (1.5 MB)\n",
      "\u001b[K     |████████████████████████████████| 1.5 MB 19.1 MB/s eta 0:00:01\n",
      "\u001b[?25h"
     ]
    }
   ],
   "source": [
    "!python3 -m pip install -U pip && python3 -m pip install -r source/requirements.txt --quiet"
   ]
  },
  {
   "cell_type": "code",
   "execution_count": 26,
   "metadata": {},
   "outputs": [],
   "source": [
    "import os\n",
    "import sagemaker\n",
    "from sagemaker import get_execution_role\n",
    "\n",
    "sagemaker_session = sagemaker.Session()\n",
    "\n",
    "role = get_execution_role()\n",
    "region = sagemaker_session.boto_session.region_name"
   ]
  },
  {
   "cell_type": "markdown",
   "metadata": {},
   "source": [
    "## Downloading the data\n",
    "We'll use the images provided in the deep lesion dataset.\n",
    "\"The National Institutes of Health’s Clinical Center has made a large-scale dataset of CT images publicly available to help the scientific community improve detection accuracy of lesions. While most publicly available medical image datasets have less than a thousand lesions, this dataset, named DeepLesion, has over 32,000 annotated lesions identified on CT images, representing 4,400 unique patients\"\n",
    "https://www.nih.gov/news-events/news-releases/nih-clinical-center-releases-dataset-32000-ct-images"
   ]
  },
  {
   "cell_type": "code",
   "execution_count": 27,
   "metadata": {},
   "outputs": [
    {
     "name": "stdout",
     "output_type": "stream",
     "text": [
      "477 train files generated\n",
      "496 train files generated\n",
      "514 train files generated\n",
      "521 train files generated\n",
      "525 train files generated\n",
      "544 train files generated\n",
      "560 train files generated\n",
      "571 train files generated\n",
      "589 train files generated\n",
      "604 train files generated\n",
      "624 train files generated\n",
      "633 train files generated\n",
      "652 train files generated\n",
      "670 train files generated\n",
      "681 train files generated\n",
      "689 train files generated\n",
      "704 train files generated\n",
      "721 train files generated\n",
      "741 train files generated\n",
      "755 train files generated\n",
      "774 train files generated\n",
      "780 train files generated\n",
      "798 train files generated\n",
      "809 train files generated\n",
      "819 train files generated\n",
      "836 train files generated\n",
      "853 train files generated\n",
      "862 train files generated\n",
      "872 train files generated\n",
      "888 train files generated\n",
      "899 train files generated\n",
      "910 train files generated\n",
      "925 train files generated\n",
      "944 train files generated\n",
      "953 train files generated\n",
      "964 train files generated\n",
      "977 train files generated\n",
      "988 train files generated\n",
      "1003 train files generated\n",
      "1004 train files generated\n",
      "1019 train files generated\n",
      "1029 train files generated\n",
      "1042 train files generated\n",
      "1053 train files generated\n",
      "1063 train files generated\n",
      "1074 train files generated\n",
      "1081 train files generated\n",
      "1101 train files generated\n",
      "1121 train files generated\n",
      "1130 train files generated\n",
      "1147 train files generated\n",
      "1160 train files generated\n",
      "1178 train files generated\n",
      "1197 train files generated\n",
      "1207 train files generated\n",
      "1218 train files generated\n",
      "1235 train files generated\n",
      "1246 train files generated\n",
      "1266 train files generated\n",
      "1282 train files generated\n",
      "1294 train files generated\n",
      "1313 train files generated\n",
      "1318 train files generated\n",
      "1332 train files generated\n",
      "1351 train files generated\n",
      "1371 train files generated\n",
      "1385 train files generated\n",
      "1403 train files generated\n",
      "1415 train files generated\n",
      "1418 train files generated\n",
      "1437 train files generated\n",
      "1452 train files generated\n",
      "1471 train files generated\n",
      "1480 train files generated\n",
      "1500 train files generated\n",
      "1511 train files generated\n",
      "1523 train files generated\n",
      "1542 train files generated\n",
      "1547 train files generated\n",
      "1561 train files generated\n",
      "1567 train files generated\n",
      "1579 train files generated\n",
      "1596 train files generated\n",
      "1606 train files generated\n",
      "1616 train files generated\n",
      "1628 train files generated\n",
      "1646 train files generated\n",
      "1656 train files generated\n",
      "1674 train files generated\n",
      "1685 train files generated\n",
      "1698 train files generated\n",
      "1713 train files generated\n",
      "1732 train files generated\n",
      "1748 train files generated\n",
      "1763 train files generated\n",
      "1783 train files generated\n",
      "1792 train files generated\n",
      "1811 train files generated\n",
      "1831 train files generated\n",
      "1849 train files generated\n",
      "1867 train files generated\n",
      "1885 train files generated\n",
      "1906 train files generated\n",
      "1926 train files generated\n",
      "1941 train files generated\n",
      "1958 train files generated\n",
      "1969 train files generated\n",
      "1976 train files generated\n",
      "1989 train files generated\n",
      "1991 train files generated\n",
      "2006 train files generated\n",
      "2020 train files generated\n",
      "2041 train files generated\n",
      "2053 train files generated\n",
      "2071 train files generated\n",
      "2084 train files generated\n",
      "2095 train files generated\n",
      "2106 train files generated\n",
      "2117 train files generated\n",
      "2128 train files generated\n",
      "2144 train files generated\n",
      "2150 train files generated\n",
      "2168 train files generated\n",
      "2184 train files generated\n",
      "2203 train files generated\n",
      "2215 train files generated\n",
      "2234 train files generated\n",
      "2252 train files generated\n",
      "2259 train files generated\n",
      "2272 train files generated\n",
      "2292 train files generated\n",
      "2310 train files generated\n",
      "2321 train files generated\n",
      "2338 train files generated\n",
      "2355 train files generated\n",
      "2364 train files generated\n",
      "2380 train files generated\n",
      "2397 train files generated\n",
      "2413 train files generated\n",
      "2430 train files generated\n",
      "2442 train files generated\n",
      "2457 train files generated\n",
      "2470 train files generated\n",
      "2478 train files generated\n",
      "2499 train files generated\n",
      "2515 train files generated\n",
      "2526 train files generated\n",
      "2538 train files generated\n",
      "2548 train files generated\n",
      "2553 train files generated\n",
      "2565 train files generated\n",
      "2575 train files generated\n",
      "2590 train files generated\n",
      "2608 train files generated\n",
      "2625 train files generated\n",
      "2634 train files generated\n",
      "2643 train files generated\n",
      "2653 train files generated\n",
      "2664 train files generated\n",
      "2676 train files generated\n",
      "2682 train files generated\n",
      "2695 train files generated\n",
      "2712 train files generated\n",
      "2728 train files generated\n",
      "2734 train files generated\n",
      "2746 train files generated\n",
      "2755 train files generated\n",
      "2774 train files generated\n",
      "2791 train files generated\n",
      "2811 train files generated\n",
      "2824 train files generated\n",
      "2840 train files generated\n",
      "2846 train files generated\n",
      "2865 train files generated\n",
      "2885 train files generated\n",
      "2906 train files generated\n",
      "2917 train files generated\n",
      "2934 train files generated\n",
      "2945 train files generated\n",
      "2963 train files generated\n",
      "2978 train files generated\n",
      "2994 train files generated\n",
      "3009 train files generated\n",
      "3017 train files generated\n",
      "3036 train files generated\n",
      "3045 train files generated\n",
      "3062 train files generated\n",
      "3072 train files generated\n",
      "3090 train files generated\n",
      "3104 train files generated\n",
      "3122 train files generated\n",
      "3132 train files generated\n",
      "3151 train files generated\n",
      "3160 train files generated\n",
      "3165 train files generated\n",
      "3182 train files generated\n",
      "3196 train files generated\n",
      "3212 train files generated\n",
      "3231 train files generated\n",
      "3246 train files generated\n",
      "3260 train files generated\n",
      "3276 train files generated\n",
      "3292 train files generated\n",
      "3295 train files generated\n",
      "3309 train files generated\n",
      "3327 train files generated\n",
      "3340 train files generated\n",
      "3356 train files generated\n",
      "3371 train files generated\n",
      "3391 train files generated\n",
      "3402 train files generated\n",
      "3403 train files generated\n",
      "3420 train files generated\n",
      "3437 train files generated\n",
      "3448 train files generated\n",
      "3467 train files generated\n",
      "3478 train files generated\n",
      "3485 train files generated\n",
      "3495 train files generated\n",
      "3505 train files generated\n",
      "3524 train files generated\n",
      "3533 train files generated\n",
      "3548 train files generated\n",
      "3565 train files generated\n",
      "3584 train files generated\n",
      "3594 train files generated\n",
      "3612 train files generated\n",
      "3630 train files generated\n",
      "3646 train files generated\n",
      "3656 train files generated\n",
      "3667 train files generated\n",
      "3674 train files generated\n",
      "3688 train files generated\n",
      "3692 train files generated\n",
      "3706 train files generated\n",
      "3725 train files generated\n",
      "3745 train files generated\n",
      "3747 train files generated\n",
      "3765 train files generated\n",
      "3774 train files generated\n",
      "3793 train files generated\n",
      "3811 train files generated\n",
      "3824 train files generated\n",
      "3841 train files generated\n",
      "3852 train files generated\n",
      "3862 train files generated\n",
      "3882 train files generated\n",
      "3899 train files generated\n",
      "3916 train files generated\n",
      "3927 train files generated\n",
      "3944 train files generated\n",
      "3944 train files generated\n",
      "3961 train files generated\n",
      "3976 train files generated\n",
      "3990 train files generated\n",
      "4002 train files generated\n",
      "4015 train files generated\n",
      "4015 train files generated\n",
      "4025 train files generated\n",
      "4036 train files generated\n",
      "4050 train files generated\n",
      "4060 train files generated\n",
      "4076 train files generated\n",
      "4094 train files generated\n",
      "4112 train files generated\n",
      "4127 train files generated\n",
      "4145 train files generated\n",
      "4165 train files generated\n",
      "4169 train files generated\n",
      "4186 train files generated\n",
      "4196 train files generated\n",
      "4210 train files generated\n",
      "4231 train files generated\n",
      "4244 train files generated\n",
      "4247 train files generated\n",
      "4264 train files generated\n",
      "4276 train files generated\n",
      "4295 train files generated\n",
      "4306 train files generated\n",
      "4323 train files generated\n",
      "4337 train files generated\n",
      "4348 train files generated\n",
      "4364 train files generated\n",
      "4381 train files generated\n",
      "4400 train files generated\n",
      "4414 train files generated\n",
      "4430 train files generated\n",
      "4443 train files generated\n",
      "4454 train files generated\n",
      "4466 train files generated\n",
      "4485 train files generated\n",
      "4495 train files generated\n",
      "4507 train files generated\n",
      "4518 train files generated\n",
      "4530 train files generated\n",
      "4541 train files generated\n",
      "4550 train files generated\n",
      "4570 train files generated\n",
      "4585 train files generated\n",
      "4595 train files generated\n",
      "4609 train files generated\n",
      "4627 train files generated\n",
      "4638 train files generated\n",
      "4655 train files generated\n",
      "4674 train files generated\n",
      "4680 train files generated\n",
      "4697 train files generated\n",
      "4709 train files generated\n",
      "4725 train files generated\n",
      "4740 train files generated\n"
     ]
    }
   ],
   "source": [
    "from source.utils.preprocessor import DeepLesionPreprocessor\n",
    "config = {\n",
    "    'input_path': 'raw_data/',\n",
    "    'output_path': 'preprocessed_data/',\n",
    "    'data_urls': ['https://nihcc.box.com/shared/static/l52tpmmkgjlfa065ow8czhivhu5vx27n.zip'],\n",
    "    'download': True,\n",
    "    'train': True,\n",
    "    'test': True,\n",
    "    'delete_raw': True,\n",
    "    'crop_size': 128,\n",
    "    'input_size': 64\n",
    "}\n",
    "preprocessor = DeepLesionPreprocessor(config)\n",
    "preprocessor.run()"
   ]
  },
  {
   "cell_type": "code",
   "execution_count": 28,
   "metadata": {},
   "outputs": [],
   "source": [
    "# create an S3 bucket\n",
    "bucket = 'sgm-ndmle'\n",
    "\n",
    "# should be the name of directory you created to save your features data\n",
    "data_dir = \"preprocessed_data/train\"\n",
    "\n",
    "# set prefix, a descriptive name for a directory  \n",
    "prefix = 'gan_circle'"
   ]
  },
  {
   "cell_type": "code",
   "execution_count": 29,
   "metadata": {},
   "outputs": [],
   "source": [
    "# upload all data to S3\n",
    "input_data = sagemaker_session.upload_data(path=data_dir, bucket=bucket, key_prefix=prefix+'/data/train')"
   ]
  },
  {
   "cell_type": "code",
   "execution_count": 30,
   "metadata": {},
   "outputs": [],
   "source": [
    "training_data_uri = f's3://{bucket}/{prefix}/data'\n",
    "ckpt_uri = f's3://{bucket}/{prefix}/checkpoint'"
   ]
  },
  {
   "cell_type": "code",
   "execution_count": 31,
   "metadata": {},
   "outputs": [
    {
     "data": {
      "text/plain": [
       "'s3://sgm-ndmle/gan_circle/data'"
      ]
     },
     "execution_count": 31,
     "metadata": {},
     "output_type": "execute_result"
    }
   ],
   "source": [
    "training_data_uri"
   ]
  },
  {
   "cell_type": "markdown",
   "metadata": {},
   "source": [
    "### Explaining the problem"
   ]
  },
  {
   "cell_type": "code",
   "execution_count": 32,
   "metadata": {},
   "outputs": [
    {
     "data": {
      "text/plain": [
       "<matplotlib.image.AxesImage at 0x7f4b087f6910>"
      ]
     },
     "execution_count": 32,
     "metadata": {},
     "output_type": "execute_result"
    },
    {
     "data": {
      "image/png": "[encoded data removed]",
      "text/plain": [
       "<Figure size 1080x720 with 2 Axes>"
      ]
     },
     "metadata": {
      "needs_background": "light"
     },
     "output_type": "display_data"
    }
   ],
   "source": [
    "from glob import glob\n",
    "import matplotlib.pyplot as plt\n",
    "import random\n",
    "import numpy as np\n",
    "import tensorflow as tf\n",
    "import SimpleITK as sitk\n",
    "\n",
    "files = glob(\"preprocessed_data/train/*\")\n",
    "file = random.choice(files)\n",
    "\n",
    "fig, axs = plt.subplots(1, 2, figsize=(15, 10))\n",
    "img = sitk.ReadImage(file)\n",
    "img = sitk.GetArrayFromImage(img)\n",
    "img = img * 1. + (-32768)\n",
    "hu_0 = -10\n",
    "hu_1 = 400\n",
    "img = 2. * ((img - (hu_0)) / (hu_1 - (hu_0))) - 1.\n",
    "img = tf.expand_dims(img, 2)\n",
    "\n",
    "hr_patch = tf.cast(tf.image.resize(\n",
    "                img,\n",
    "                (64, 64),\n",
    "                method=tf.image.ResizeMethod.BICUBIC,\n",
    "                preserve_aspect_ratio=True\n",
    "            ), tf.float32)\n",
    "\n",
    "lr_patch = tf.cast(tf.image.resize(\n",
    "                hr_patch,\n",
    "                (32, 32),\n",
    "                method=tf.image.ResizeMethod.NEAREST_NEIGHBOR,\n",
    "                preserve_aspect_ratio=True\n",
    "            ), tf.float32)\n",
    "\n",
    "lr_patch = tf.cast(tf.image.resize(\n",
    "                lr_patch,\n",
    "                (64, 64),\n",
    "                method=tf.image.ResizeMethod.NEAREST_NEIGHBOR,\n",
    "                preserve_aspect_ratio=True\n",
    "            ), tf.float32)\n",
    "\n",
    "\n",
    "lr_patch = np.squeeze(lr_patch)\n",
    "axs[0].imshow(lr_patch, cmap=plt.cm.bone)\n",
    "\n",
    "hr_patch = np.squeeze(hr_patch)\n",
    "axs[1].imshow(hr_patch, cmap=plt.cm.bone)"
   ]
  },
  {
   "cell_type": "markdown",
   "metadata": {},
   "source": [
    "# Construct a script for distributed training\n",
    "\n",
    "This tutorial's training script was adapted from TensorFlow's official [CNN MNIST example](https://github.com/tensorflow/tensorflow/blob/master/tensorflow/examples/tutorials/layers/cnn_mnist.py). We have modified it to handle the ``model_dir`` parameter passed in by SageMaker. This is an S3 path which can be used for data sharing during distributed training and checkpointing and/or model persistence. We have also added an argument-parsing function to handle processing training-related variables.\n",
    "\n",
    "At the end of the training job we have added a step to export the trained model to the path stored in the environment variable ``SM_MODEL_DIR``, which always points to ``/opt/ml/model``. This is critical because SageMaker uploads all the model artifacts in this folder to S3 at end of training.\n",
    "\n",
    "Here is the entire script:"
   ]
  },
  {
   "cell_type": "code",
   "execution_count": 33,
   "metadata": {},
   "outputs": [
    {
     "name": "stdout",
     "output_type": "stream",
     "text": [
      "\u001b[34mimport\u001b[39;49;00m \u001b[04m\u001b[36mtensorflow\u001b[39;49;00m \u001b[34mas\u001b[39;49;00m \u001b[04m\u001b[36mtf\u001b[39;49;00m\n",
      "\u001b[34mimport\u001b[39;49;00m \u001b[04m\u001b[36margparse\u001b[39;49;00m\n",
      "\u001b[34mimport\u001b[39;49;00m \u001b[04m\u001b[36mos\u001b[39;49;00m\n",
      "\u001b[34mimport\u001b[39;49;00m \u001b[04m\u001b[36mnumpy\u001b[39;49;00m \u001b[34mas\u001b[39;49;00m \u001b[04m\u001b[36mnp\u001b[39;49;00m\n",
      "\u001b[34mimport\u001b[39;49;00m \u001b[04m\u001b[36mjson\u001b[39;49;00m\n",
      "\u001b[34mfrom\u001b[39;49;00m \u001b[04m\u001b[36mmodel\u001b[39;49;00m \u001b[34mimport\u001b[39;49;00m ganCIRCLE, generator\n",
      "\u001b[34mfrom\u001b[39;49;00m \u001b[04m\u001b[36mutils\u001b[39;49;00m\u001b[04m\u001b[36m.\u001b[39;49;00m\u001b[04m\u001b[36mloader\u001b[39;49;00m \u001b[34mimport\u001b[39;49;00m DataLoader\n",
      "\n",
      "\n",
      "\u001b[34mdef\u001b[39;49;00m \u001b[32m_parse_args\u001b[39;49;00m():\n",
      "    parser = argparse.ArgumentParser()\n",
      "\n",
      "    \u001b[37m# Data, model, and output directories\u001b[39;49;00m\n",
      "    \u001b[37m# model_dir is always passed in from SageMaker. By default this is a S3 path under the default bucket.\u001b[39;49;00m\n",
      "    parser.add_argument(\u001b[33m'\u001b[39;49;00m\u001b[33m--model_dir\u001b[39;49;00m\u001b[33m'\u001b[39;49;00m, \u001b[36mtype\u001b[39;49;00m=\u001b[36mstr\u001b[39;49;00m)\n",
      "    parser.add_argument(\u001b[33m'\u001b[39;49;00m\u001b[33m--sm-model-dir\u001b[39;49;00m\u001b[33m'\u001b[39;49;00m, \u001b[36mtype\u001b[39;49;00m=\u001b[36mstr\u001b[39;49;00m,\n",
      "                        default=os.environ.get(\u001b[33m'\u001b[39;49;00m\u001b[33mSM_MODEL_DIR\u001b[39;49;00m\u001b[33m'\u001b[39;49;00m))\n",
      "    parser.add_argument(\u001b[33m'\u001b[39;49;00m\u001b[33m--train\u001b[39;49;00m\u001b[33m'\u001b[39;49;00m, \u001b[36mtype\u001b[39;49;00m=\u001b[36mstr\u001b[39;49;00m,\n",
      "                        default=os.environ.get(\u001b[33m'\u001b[39;49;00m\u001b[33mSM_CHANNEL_TRAINING\u001b[39;49;00m\u001b[33m'\u001b[39;49;00m))\n",
      "    parser.add_argument(\u001b[33m'\u001b[39;49;00m\u001b[33m--hosts\u001b[39;49;00m\u001b[33m'\u001b[39;49;00m, \u001b[36mtype\u001b[39;49;00m=\u001b[36mlist\u001b[39;49;00m,\n",
      "                        default=json.loads(os.environ.get(\u001b[33m'\u001b[39;49;00m\u001b[33mSM_HOSTS\u001b[39;49;00m\u001b[33m'\u001b[39;49;00m)))\n",
      "    parser.add_argument(\u001b[33m'\u001b[39;49;00m\u001b[33m--current-host\u001b[39;49;00m\u001b[33m'\u001b[39;49;00m, \u001b[36mtype\u001b[39;49;00m=\u001b[36mstr\u001b[39;49;00m,\n",
      "                        default=os.environ.get(\u001b[33m'\u001b[39;49;00m\u001b[33mSM_CURRENT_HOST\u001b[39;49;00m\u001b[33m'\u001b[39;49;00m))\n",
      "    parser.add_argument(\u001b[33m'\u001b[39;49;00m\u001b[33m--epochs\u001b[39;49;00m\u001b[33m'\u001b[39;49;00m, \u001b[36mtype\u001b[39;49;00m=\u001b[36mint\u001b[39;49;00m,\n",
      "                        default=\u001b[34m10\u001b[39;49;00m)\n",
      "    parser.add_argument(\u001b[33m'\u001b[39;49;00m\u001b[33m--batch_size\u001b[39;49;00m\u001b[33m'\u001b[39;49;00m, \u001b[36mtype\u001b[39;49;00m=\u001b[36mint\u001b[39;49;00m,\n",
      "                        default=\u001b[34m16\u001b[39;49;00m)\n",
      "    parser.add_argument(\u001b[33m'\u001b[39;49;00m\u001b[33m--checkpoint_folder\u001b[39;49;00m\u001b[33m'\u001b[39;49;00m, \u001b[36mtype\u001b[39;49;00m=\u001b[36mstr\u001b[39;49;00m)\n",
      "\n",
      "    \u001b[34mreturn\u001b[39;49;00m parser.parse_known_args()\n",
      "\n",
      "\n",
      "\u001b[34mif\u001b[39;49;00m \u001b[31m__name__\u001b[39;49;00m == \u001b[33m\"\u001b[39;49;00m\u001b[33m__main__\u001b[39;49;00m\u001b[33m\"\u001b[39;49;00m:\n",
      "\n",
      "    args, unknown = _parse_args()\n",
      "\n",
      "    loader = DataLoader(data_path=args.train, batch_size=args.batch_size, epoch_size=\u001b[34m10000\u001b[39;49;00m, hu_scale=[-\u001b[34m100\u001b[39;49;00m, \u001b[34m500\u001b[39;49;00m],noise_prob=\u001b[34m0.1\u001b[39;49;00m, noise_mu=\u001b[34m0\u001b[39;49;00m, noise_sd=\u001b[34m0.2\u001b[39;49;00m, blur_prob=\u001b[34m0.1\u001b[39;49;00m, input_size=\u001b[34m64\u001b[39;49;00m, training=\u001b[34mTrue\u001b[39;49;00m, scaler=\u001b[33m'\u001b[39;49;00m\u001b[33msigm\u001b[39;49;00m\u001b[33m'\u001b[39;49;00m)\n",
      "    \n",
      "    circle = ganCIRCLE(learning_rate=\u001b[34m0.00005\u001b[39;49;00m, lambda_cycle=\u001b[34m1\u001b[39;49;00m, lambda_val=\u001b[34m1\u001b[39;49;00m, lambda_id=.\u001b[34m5\u001b[39;49;00m, lambda_jst=.\u001b[34m00001\u001b[39;49;00m, batch_size=args.batch_size, checkpoint_folder=args.checkpoint_folder)\n",
      "    \n",
      "    iterations = tf.constant(\n",
      "            (loader.epoch_size\n",
      "             // (loader.batch_size)) - \u001b[34m2\u001b[39;49;00m\n",
      "        )\n",
      "    tf.print(\u001b[33m'\u001b[39;49;00m\u001b[33mEach epoch will have \u001b[39;49;00m\u001b[33m%s\u001b[39;49;00m\u001b[33m iterations\u001b[39;49;00m\u001b[33m'\u001b[39;49;00m % (iterations.numpy()))\n",
      "\n",
      "    \u001b[34mfor\u001b[39;49;00m epoch \u001b[35min\u001b[39;49;00m tf.range(epochs):\n",
      "            \n",
      "        train_it = loader.generate_dataset(\u001b[36mtype\u001b[39;49;00m=\u001b[33m'\u001b[39;49;00m\u001b[33mtrain\u001b[39;49;00m\u001b[33m'\u001b[39;49;00m)     \n",
      "\n",
      "        tf.print(\u001b[33m\"\u001b[39;49;00m\u001b[33m\\n\u001b[39;49;00m\u001b[33m epoch \u001b[39;49;00m\u001b[33m{}\u001b[39;49;00m\u001b[33m/\u001b[39;49;00m\u001b[33m{}\u001b[39;49;00m\u001b[33m\"\u001b[39;49;00m.format(epoch, epochs))\n",
      "\n",
      "        \u001b[34mfor\u001b[39;49;00m i \u001b[35min\u001b[39;49;00m tf.range(iterations):\n",
      "\n",
      "            \u001b[34mtry\u001b[39;49;00m:\n",
      "                train_batch = train_it.get_next()\n",
      "                circle.train(train_batch)\n",
      "\n",
      "            \u001b[34mexcept\u001b[39;49;00m tf.python.framework.errors_impl.OutOfRangeError:\n",
      "                \u001b[37m# tf.print(\"\\n OutOfRangeError - Regenerating tf.Datasets\")\u001b[39;49;00m\n",
      "                train_it = loader.generate_dataset(\u001b[36mtype\u001b[39;49;00m=\u001b[33m'\u001b[39;49;00m\u001b[33mtrain\u001b[39;49;00m\u001b[33m'\u001b[39;49;00m)\n",
      "                \u001b[34mcontinue\u001b[39;49;00m\n",
      "\n",
      "            \u001b[34mexcept\u001b[39;49;00m tf.python.framework.errors_impl.InvalidArgumentError:\n",
      "                \u001b[37m# tf.print(\"\\n %s\" % (e))\u001b[39;49;00m\n",
      "                train_it = loader.generate_dataset(\u001b[36mtype\u001b[39;49;00m=\u001b[33m'\u001b[39;49;00m\u001b[33mtrain\u001b[39;49;00m\u001b[33m'\u001b[39;49;00m)\n",
      "                \u001b[34mcontinue\u001b[39;49;00m\n",
      "\n",
      "    \u001b[37m#Storing model artifacts\u001b[39;49;00m\n",
      "    circle.g_lr_hr.save(os.path.join(sm_model_dir, \u001b[33m'\u001b[39;49;00m\u001b[33m000000001\u001b[39;49;00m\u001b[33m'\u001b[39;49;00m), \u001b[33m'\u001b[39;49;00m\u001b[33mmy_model.h5\u001b[39;49;00m\u001b[33m'\u001b[39;49;00m)\n"
     ]
    }
   ],
   "source": [
    "# TensorFlow 2.3 script\n",
    "!pygmentize 'source/train.py'"
   ]
  },
  {
   "cell_type": "markdown",
   "metadata": {},
   "source": [
    "# Create a training job using the `TensorFlow` estimator\n",
    "\n",
    "The `sagemaker.tensorflow.TensorFlow` estimator handles locating the script mode container, uploading your script to a S3 location and creating a SageMaker training job. Let's call out a couple important parameters here:\n",
    "\n",
    "* `py_version` is set to `'py3'` to indicate that we are using script mode since legacy mode supports only Python 2. Though Python 2 will be deprecated soon, you can use script mode with Python 2 by setting `py_version` to `'py2'` and `script_mode` to `True`.\n",
    "\n",
    "* `distributions` is used to configure the distributed training setup. It's required only if you are doing distributed training either across a cluster of instances or across multiple GPUs. Here we are using parameter servers as the distributed training schema. SageMaker training jobs run on homogeneous clusters. To make parameter server more performant in the SageMaker setup, we run a parameter server on every instance in the cluster, so there is no need to specify the number of parameter servers to launch. Script mode also supports distributed training with [Horovod](https://github.com/horovod/horovod). You can find the full documentation on how to configure `distributions` [here](https://github.com/aws/sagemaker-python-sdk/tree/master/src/sagemaker/tensorflow#distributed-training). \n",
    "\n"
   ]
  },
  {
   "cell_type": "code",
   "execution_count": 36,
   "metadata": {},
   "outputs": [],
   "source": [
    "from sagemaker.tensorflow import TensorFlow\n",
    "\n",
    "circle_estimator = TensorFlow(\n",
    "     entry_point='train.py',\n",
    "     role=role,\n",
    "     source_dir='source',\n",
    "     train_instance_count=1,\n",
    "     train_instance_type='ml.m4.xlarge',\n",
    "     framework_version='2.3.1',\n",
    "     image_name='763104351884.dkr.ecr.us-east-1.amazonaws.com/tensorflow-training:2.3.1-cpu-py37-ubuntu18.04-v1.12',\n",
    "     hyperparameters={'epochs': 1, 'checkpoint_folder': ckpt_uri},\n",
    "    base_job_name='tf-gan-circle'\n",
    " )"
   ]
  },
  {
   "cell_type": "markdown",
   "metadata": {},
   "source": [
    "## Calling ``fit``\n",
    "\n",
    "To start a training job, we call `estimator.fit(training_data_uri)`.\n",
    "\n",
    "An S3 location is used here as the input. `fit` creates a default channel named `'training'`, which points to this S3 location. In the training script we can then access the training data from the location stored in `SM_CHANNEL_TRAINING`. `fit` accepts a couple other types of input as well. See the API doc [here](https://sagemaker.readthedocs.io/en/stable/estimators.html#sagemaker.estimator.EstimatorBase.fit) for details.\n",
    "\n",
    "When training starts, the TensorFlow container executes mnist.py, passing `hyperparameters` and `model_dir` from the estimator as script arguments. Because we didn't define either in this example, no hyperparameters are passed, and `model_dir` defaults to `s3://<DEFAULT_BUCKET>/<TRAINING_JOB_NAME>`, so the script execution is as follows:\n",
    "```bash\n",
    "python mnist.py --model_dir s3://<DEFAULT_BUCKET>/<TRAINING_JOB_NAME>\n",
    "```\n",
    "When training is complete, the training job will upload the saved model for TensorFlow serving."
   ]
  },
  {
   "cell_type": "code",
   "execution_count": null,
   "metadata": {},
   "outputs": [
    {
     "name": "stdout",
     "output_type": "stream",
     "text": [
      "2021-01-29 13:17:55 Starting - Starting the training job.."
     ]
    }
   ],
   "source": [
    "circle_estimator.fit(training_data_uri)"
   ]
  },
  {
   "cell_type": "markdown",
   "metadata": {},
   "source": [
    "# Deploy the trained model to an endpoint\n",
    "\n",
    "The `deploy()` method creates a SageMaker model, which is then deployed to an endpoint to serve prediction requests in real time. We will use the TensorFlow Serving container for the endpoint, because we trained with script mode. This serving container runs an implementation of a web server that is compatible with SageMaker hosting protocol. The [Using your own inference code]() document explains how SageMaker runs inference containers."
   ]
  },
  {
   "cell_type": "code",
   "execution_count": null,
   "metadata": {},
   "outputs": [],
   "source": [
    "training_job_info = session.sagemaker_client.describe_training_job(TrainingJobName='tf-gan-circle-2021-01-29-04-30-16-539')\n",
    "\n",
    "model_artifacts = training_job_info['ModelArtifacts']['S3ModelArtifacts']"
   ]
  },
  {
   "cell_type": "code",
   "execution_count": null,
   "metadata": {},
   "outputs": [],
   "source": [
    "predictor = mnist_estimator.deploy(initial_instance_count=1, instance_type='ml.p2.xlarge')"
   ]
  },
  {
   "cell_type": "markdown",
   "metadata": {},
   "source": [
    "# Invoke the endpoint\n",
    "\n",
    "Let's download the training data and use that as input for inference."
   ]
  },
  {
   "cell_type": "code",
   "execution_count": null,
   "metadata": {},
   "outputs": [],
   "source": [
    "import numpy as np\n",
    "\n",
    "!aws --region {region} s3 cp s3://sagemaker-sample-data-{region}/tensorflow/mnist/train_data.npy train_data.npy\n",
    "!aws --region {region} s3 cp s3://sagemaker-sample-data-{region}/tensorflow/mnist/train_labels.npy train_labels.npy\n",
    "\n",
    "train_data = np.load('train_data.npy')\n",
    "train_labels = np.load('train_labels.npy')"
   ]
  },
  {
   "cell_type": "markdown",
   "metadata": {},
   "source": [
    "The formats of the input and the output data correspond directly to the request and response formats of the `Predict` method in the [TensorFlow Serving REST API](https://www.tensorflow.org/serving/api_rest). SageMaker's TensforFlow Serving endpoints can also accept additional input formats that are not part of the TensorFlow REST API, including the simplified JSON format, line-delimited JSON objects (\"jsons\" or \"jsonlines\"), and CSV data.\n",
    "\n",
    "In this example we are using a `numpy` array as input, which will be serialized into the simplified JSON format. In addtion, TensorFlow serving can also process multiple items at once as you can see in the following code. You can find the complete documentation on how to make predictions against a TensorFlow serving SageMaker endpoint [here](https://github.com/aws/sagemaker-python-sdk/blob/master/src/sagemaker/tensorflow/deploying_tensorflow_serving.rst#making-predictions-against-a-sagemaker-endpoint)."
   ]
  },
  {
   "cell_type": "code",
   "execution_count": null,
   "metadata": {},
   "outputs": [],
   "source": [
    "predictions = predictor.predict(train_data[:50])\n",
    "for i in range(0, 50):\n",
    "    prediction = predictions['predictions'][i]['classes']\n",
    "    label = train_labels[i]\n",
    "    print('prediction is {}, label is {}, matched: {}'.format(prediction, label, prediction == label))"
   ]
  },
  {
   "cell_type": "markdown",
   "metadata": {},
   "source": [
    "# Delete the endpoint\n",
    "\n",
    "Let's delete the endpoint we just created to prevent incurring any extra costs."
   ]
  },
  {
   "cell_type": "code",
   "execution_count": null,
   "metadata": {},
   "outputs": [],
   "source": [
    "sagemaker.Session().delete_endpoint(predictor.endpoint)"
   ]
  }
 ],
 "metadata": {
  "kernelspec": {
   "display_name": "conda_mxnet_latest_p37",
   "language": "python",
   "name": "conda_mxnet_latest_p37"
  },
  "language_info": {
   "codemirror_mode": {
    "name": "ipython",
    "version": 3
   },
   "file_extension": ".py",
   "mimetype": "text/x-python",
   "name": "python",
   "nbconvert_exporter": "python",
   "pygments_lexer": "ipython3",
   "version": "3.7.6"
  },
  "notice": "Copyright 2017 Amazon.com, Inc. or its affiliates. All Rights Reserved.  Licensed under the Apache License, Version 2.0 (the \"License\"). You may not use this file except in compliance with the License. A copy of the License is located at http://aws.amazon.com/apache2.0/ or in the \"license\" file accompanying this file. This file is distributed on an \"AS IS\" BASIS, WITHOUT WARRANTIES OR CONDITIONS OF ANY KIND, either express or implied. See the License for the specific language governing permissions and limitations under the License."
 },
 "nbformat": 4,
 "nbformat_minor": 4
}
