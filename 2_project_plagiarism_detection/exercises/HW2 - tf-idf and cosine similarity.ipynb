{
 "cells": [
  {
   "cell_type": "code",
   "execution_count": 1,
   "metadata": {},
   "outputs": [],
   "source": [
    "import nltk\n",
    "from nltk.corpus import stopwords\n",
    "from nltk.stem.wordnet import WordNetLemmatizer \n",
    "from nltk.stem.porter import PorterStemmer\n",
    "from nltk.probability import FreqDist\n",
    "import unicodedata\n",
    "import pandas as pd\n",
    "import seaborn as sns\n",
    "import numpy as np\n",
    "import re\n",
    "from itertools import islice"
   ]
  },
  {
   "cell_type": "markdown",
   "metadata": {},
   "source": [
    "#### 1. Plot a histogram of terms in alice"
   ]
  },
  {
   "cell_type": "code",
   "execution_count": 2,
   "metadata": {},
   "outputs": [
    {
     "name": "stderr",
     "output_type": "stream",
     "text": [
      "[nltk_data] Downloading package gutenberg to\n",
      "[nltk_data]     C:\\Users\\erick\\AppData\\Roaming\\nltk_data...\n",
      "[nltk_data]   Package gutenberg is already up-to-date!\n"
     ]
    }
   ],
   "source": [
    "nltk.download('gutenberg')\n",
    "alice = 'carroll-alice.txt'\n",
    "corpus_words = nltk.corpus.gutenberg.words(alice)"
   ]
  },
  {
   "cell_type": "code",
   "execution_count": 3,
   "metadata": {},
   "outputs": [],
   "source": [
    "def take(n, iterable):\n",
    "    \"Return first n items of the iterable as a list\"\n",
    "    return list(islice(iterable, n))\n",
    "\n",
    "def string_normalize(text):\n",
    "    lower = [i.lower() for i in text]\n",
    "    no_accents = [unicodedata.normalize('NFD', i) for i in lower]\n",
    "    no_marks = [re.sub(pattern = '[^a-z0-9]', string = i, repl = \"\") for i in no_accents]\n",
    "    no_noise = []\n",
    "    for w in no_marks:\n",
    "        if (w not in set(stopwords.words('english'))) and (w not in ['']):\n",
    "            no_noise.append(w)\n",
    "    return(no_noise)\n",
    "\n",
    "def string_lemmatize(text):\n",
    "    lem = WordNetLemmatizer()\n",
    "    lem_text = [lem.lemmatize(i) for i in text]\n",
    "    return(lem_text)\n",
    "\n",
    "def string_stemmatize(text):\n",
    "    stem = PorterStemmer()\n",
    "    stem_text = [stem.stem(i) for i in text]\n",
    "    return(stem_text)\n",
    "    \n",
    "def preprocTokens(text, tokenize = True, normalize = True, lemmatize = True, stem = True, count = False):\n",
    "    if tokenize == True:\n",
    "        text = nltk.word_tokenize(text)\n",
    "    if normalize == True:\n",
    "        text = string_normalize(text)\n",
    "    if lemmatize == True:\n",
    "        text = string_lemmatize(text)\n",
    "    if stem == True:\n",
    "        text = string_stemmatize(text)\n",
    "    if count == True:\n",
    "        text = FreqDist(text)\n",
    "    return(text)"
   ]
  },
  {
   "cell_type": "code",
   "execution_count": 23,
   "metadata": {},
   "outputs": [],
   "source": [
    "# Histogram of terms\n",
    "document = \" \".join([str(s) for s in corpus_words])\n",
    "tokens = preprocTokens(document, tokenize = True, normalize = False, lemmatize = False, stem = False, count = True)\n",
    "dataset = pd.DataFrame.from_dict(tokens, orient = 'index', columns = ['frequency'])"
   ]
  },
  {
   "cell_type": "code",
   "execution_count": 5,
   "metadata": {},
   "outputs": [
    {
     "data": {
      "text/html": [
       "<div>\n",
       "<style scoped>\n",
       "    .dataframe tbody tr th:only-of-type {\n",
       "        vertical-align: middle;\n",
       "    }\n",
       "\n",
       "    .dataframe tbody tr th {\n",
       "        vertical-align: top;\n",
       "    }\n",
       "\n",
       "    .dataframe thead th {\n",
       "        text-align: right;\n",
       "    }\n",
       "</style>\n",
       "<table border=\"1\" class=\"dataframe\">\n",
       "  <thead>\n",
       "    <tr style=\"text-align: right;\">\n",
       "      <th></th>\n",
       "      <th>frequency</th>\n",
       "    </tr>\n",
       "  </thead>\n",
       "  <tbody>\n",
       "    <tr>\n",
       "      <th>,</th>\n",
       "      <td>2418</td>\n",
       "    </tr>\n",
       "    <tr>\n",
       "      <th>the</th>\n",
       "      <td>1527</td>\n",
       "    </tr>\n",
       "    <tr>\n",
       "      <th>.</th>\n",
       "      <td>988</td>\n",
       "    </tr>\n",
       "    <tr>\n",
       "      <th>and</th>\n",
       "      <td>802</td>\n",
       "    </tr>\n",
       "    <tr>\n",
       "      <th>to</th>\n",
       "      <td>725</td>\n",
       "    </tr>\n",
       "    <tr>\n",
       "      <th>a</th>\n",
       "      <td>615</td>\n",
       "    </tr>\n",
       "    <tr>\n",
       "      <th>I</th>\n",
       "      <td>543</td>\n",
       "    </tr>\n",
       "    <tr>\n",
       "      <th>it</th>\n",
       "      <td>527</td>\n",
       "    </tr>\n",
       "    <tr>\n",
       "      <th>she</th>\n",
       "      <td>509</td>\n",
       "    </tr>\n",
       "  </tbody>\n",
       "</table>\n",
       "</div>"
      ],
      "text/plain": [
       "     frequency\n",
       ",         2418\n",
       "the       1527\n",
       ".          988\n",
       "and        802\n",
       "to         725\n",
       "a          615\n",
       "I          543\n",
       "it         527\n",
       "she        509"
      ]
     },
     "execution_count": 5,
     "metadata": {},
     "output_type": "execute_result"
    }
   ],
   "source": [
    "dataset.sort_values(ascending=False, by = 'frequency')[1:10]"
   ]
  },
  {
   "cell_type": "code",
   "execution_count": 6,
   "metadata": {},
   "outputs": [
    {
     "data": {
      "image/png": "[encoded data removed]",
      "text/plain": [
       "<Figure size 432x288 with 1 Axes>"
      ]
     },
     "metadata": {},
     "output_type": "display_data"
    }
   ],
   "source": [
    "tokens.plot(10, cumulative=False,\n",
    "                 title='Term Frequency Plot', linewidth=2)"
   ]
  },
  {
   "cell_type": "code",
   "execution_count": 7,
   "metadata": {},
   "outputs": [],
   "source": [
    "# Histogram of normalized and lemmatized terms\n",
    "\n",
    "# Histogram of terms\n",
    "tokens2 = preprocTokens(document, tokenize = True, normalize = True, lemmatize = True, stem = False, count = True)\n",
    "dataset2 = pd.DataFrame.from_dict(tokens2, orient = 'index', columns = ['frequency'])"
   ]
  },
  {
   "cell_type": "code",
   "execution_count": 8,
   "metadata": {},
   "outputs": [
    {
     "data": {
      "text/html": [
       "<div>\n",
       "<style scoped>\n",
       "    .dataframe tbody tr th:only-of-type {\n",
       "        vertical-align: middle;\n",
       "    }\n",
       "\n",
       "    .dataframe tbody tr th {\n",
       "        vertical-align: top;\n",
       "    }\n",
       "\n",
       "    .dataframe thead th {\n",
       "        text-align: right;\n",
       "    }\n",
       "</style>\n",
       "<table border=\"1\" class=\"dataframe\">\n",
       "  <thead>\n",
       "    <tr style=\"text-align: right;\">\n",
       "      <th></th>\n",
       "      <th>frequency</th>\n",
       "    </tr>\n",
       "  </thead>\n",
       "  <tbody>\n",
       "    <tr>\n",
       "      <th>alice</th>\n",
       "      <td>398</td>\n",
       "    </tr>\n",
       "    <tr>\n",
       "      <th>little</th>\n",
       "      <td>128</td>\n",
       "    </tr>\n",
       "    <tr>\n",
       "      <th>one</th>\n",
       "      <td>105</td>\n",
       "    </tr>\n",
       "    <tr>\n",
       "      <th>know</th>\n",
       "      <td>90</td>\n",
       "    </tr>\n",
       "    <tr>\n",
       "      <th>like</th>\n",
       "      <td>86</td>\n",
       "    </tr>\n",
       "    <tr>\n",
       "      <th>went</th>\n",
       "      <td>83</td>\n",
       "    </tr>\n",
       "    <tr>\n",
       "      <th>would</th>\n",
       "      <td>83</td>\n",
       "    </tr>\n",
       "    <tr>\n",
       "      <th>thing</th>\n",
       "      <td>80</td>\n",
       "    </tr>\n",
       "    <tr>\n",
       "      <th>time</th>\n",
       "      <td>77</td>\n",
       "    </tr>\n",
       "  </tbody>\n",
       "</table>\n",
       "</div>"
      ],
      "text/plain": [
       "        frequency\n",
       "alice         398\n",
       "little        128\n",
       "one           105\n",
       "know           90\n",
       "like           86\n",
       "went           83\n",
       "would          83\n",
       "thing          80\n",
       "time           77"
      ]
     },
     "execution_count": 8,
     "metadata": {},
     "output_type": "execute_result"
    }
   ],
   "source": [
    "dataset2.sort_values(ascending=False, by = 'frequency')[1:10]"
   ]
  },
  {
   "cell_type": "code",
   "execution_count": 9,
   "metadata": {},
   "outputs": [
    {
     "data": {
      "image/png": "[encoded data removed]",
      "text/plain": [
       "<Figure size 432x288 with 1 Axes>"
      ]
     },
     "metadata": {},
     "output_type": "display_data"
    }
   ],
   "source": [
    "tokens2.plot(10, cumulative=False,\n",
    "                 title='Term Frequency Plot', linewidth=2)"
   ]
  },
  {
   "cell_type": "markdown",
   "metadata": {},
   "source": [
    "#### 2. Build a TD-M for the collection in books and find the most similar document content to the \"Alice in Wonderland\" usinf tf-idf and cosine similarity"
   ]
  },
  {
   "cell_type": "code",
   "execution_count": 10,
   "metadata": {},
   "outputs": [],
   "source": [
    "books = ['shakespeare-macbeth.txt', 'chesterton-ball.txt','melville-moby_dick.txt','carroll-alice.txt']\n",
    "alice = nltk.corpus.gutenberg.words(books[3])\n",
    "alice = \" \".join([str(s) for s in alice])\n",
    "mbeth = nltk.corpus.gutenberg.words(books[0])\n",
    "mbeth = \" \".join([str(s) for s in mbeth])\n",
    "chest = nltk.corpus.gutenberg.words(books[1])\n",
    "chest = \" \".join([str(s) for s in chest])\n",
    "mob = nltk.corpus.gutenberg.words(books[2])\n",
    "mob = \" \".join([str(s) for s in mob])\n",
    "\n",
    "documents = [alice, mbeth, chest, mob]"
   ]
  },
  {
   "cell_type": "code",
   "execution_count": 11,
   "metadata": {},
   "outputs": [
    {
     "data": {
      "text/plain": [
       "<4x13313 sparse matrix of type '<class 'numpy.int64'>'\n",
       "\twith 20949 stored elements in Compressed Sparse Row format>"
      ]
     },
     "execution_count": 11,
     "metadata": {},
     "output_type": "execute_result"
    }
   ],
   "source": [
    "#  turn text into vectors of term frequency, overriding the tokenizer to perform lemmatization and stemmatization\n",
    "from sklearn.feature_extraction.text import CountVectorizer\n",
    "LemVectorizer = CountVectorizer(tokenizer=preprocTokens)\n",
    "LemVectorizer.fit_transform(documents)"
   ]
  },
  {
   "cell_type": "code",
   "execution_count": 12,
   "metadata": {},
   "outputs": [
    {
     "data": {
      "text/plain": [
       "[('alic', 483),\n",
       " ('adventur', 366),\n",
       " ('wonderland', 13162),\n",
       " ('lewi', 6738),\n",
       " ('carrol', 1914)]"
      ]
     },
     "execution_count": 12,
     "metadata": {},
     "output_type": "execute_result"
    }
   ],
   "source": [
    "d = LemVectorizer.vocabulary_ # tuple(terms, index)\n",
    "take(5, d.items())"
   ]
  },
  {
   "cell_type": "code",
   "execution_count": 13,
   "metadata": {},
   "outputs": [
    {
     "data": {
      "text/plain": [
       "array([[ 0,  0,  0, ...,  0,  0,  0],\n",
       "       [ 0,  0,  0, ...,  0,  0,  0],\n",
       "       [ 1,  1,  1, ...,  0,  1,  0],\n",
       "       [ 0, 20,  0, ..., 10,  2,  1]], dtype=int64)"
      ]
     },
     "execution_count": 13,
     "metadata": {},
     "output_type": "execute_result"
    }
   ],
   "source": [
    "tf_matrix = LemVectorizer.transform(documents).toarray()\n",
    "tf_matrix"
   ]
  },
  {
   "cell_type": "code",
   "execution_count": 14,
   "metadata": {},
   "outputs": [
    {
     "data": {
      "text/plain": [
       "(4, 13313)"
      ]
     },
     "execution_count": 14,
     "metadata": {},
     "output_type": "execute_result"
    }
   ],
   "source": [
    "# This should be a 4 (# of documents) by 19104 (# of terms in the corpus). Check its shape:\n",
    "tf_matrix.shape"
   ]
  },
  {
   "cell_type": "code",
   "execution_count": 22,
   "metadata": {},
   "outputs": [
    {
     "data": {
      "text/plain": [
       "array([398,   0,   0,   0], dtype=int64)"
      ]
     },
     "execution_count": 22,
     "metadata": {},
     "output_type": "execute_result"
    }
   ],
   "source": [
    "# checking the frequency of a sample term\n",
    "tf_matrix[:,483]"
   ]
  },
  {
   "cell_type": "code",
   "execution_count": 16,
   "metadata": {},
   "outputs": [
    {
     "data": {
      "text/plain": [
       "TfidfTransformer(norm='l2', smooth_idf=True, sublinear_tf=False, use_idf=True)"
      ]
     },
     "execution_count": 16,
     "metadata": {},
     "output_type": "execute_result"
    }
   ],
   "source": [
    "# Now the TF-IDF matrix\n",
    "from sklearn.feature_extraction.text import TfidfTransformer\n",
    "tfidf = TfidfTransformer(norm=\"l2\")\n",
    "tfidf.fit(tf_matrix)"
   ]
  },
  {
   "cell_type": "code",
   "execution_count": 17,
   "metadata": {},
   "outputs": [
    {
     "data": {
      "text/plain": [
       "array([1.91629073, 1.51082562, 1.91629073, ..., 1.91629073, 1.51082562,\n",
       "       1.91629073])"
      ]
     },
     "execution_count": 17,
     "metadata": {},
     "output_type": "execute_result"
    }
   ],
   "source": [
    "# here is the idf for each term\n",
    "tfidf.idf_"
   ]
  },
  {
   "cell_type": "code",
   "execution_count": 18,
   "metadata": {},
   "outputs": [
    {
     "data": {
      "text/plain": [
       "<4x13313 sparse matrix of type '<class 'numpy.float64'>'\n",
       "\twith 20949 stored elements in Compressed Sparse Row format>"
      ]
     },
     "execution_count": 18,
     "metadata": {},
     "output_type": "execute_result"
    }
   ],
   "source": [
    "# and the tf-idf matrix\n",
    "tfidf_matrix = tfidf.transform(tf_matrix)\n",
    "tfidf_matrix"
   ]
  },
  {
   "cell_type": "code",
   "execution_count": 19,
   "metadata": {},
   "outputs": [
    {
     "data": {
      "text/plain": [
       "array([[0.        , 0.        , 0.        , ..., 0.        , 0.        ,\n",
       "        0.        ],\n",
       "       [0.        , 0.        , 0.        , ..., 0.        , 0.        ,\n",
       "        0.        ],\n",
       "       [0.00092012, 0.00072543, 0.00092012, ..., 0.        , 0.00072543,\n",
       "        0.        ],\n",
       "       [0.        , 0.00630612, 0.        , ..., 0.00399926, 0.00063061,\n",
       "        0.00039993]])"
      ]
     },
     "execution_count": 19,
     "metadata": {},
     "output_type": "execute_result"
    }
   ],
   "source": [
    "# Here what the transform method does is multiplying the tf matrix (4 by 19104) \n",
    "# by the diagonal idf matrix (41 by 41 with idf for each term on the main diagonal), \n",
    "# and dividing the tf-idf by the Euclidean norm.\n",
    "tfidf_matrix.toarray()"
   ]
  },
  {
   "cell_type": "code",
   "execution_count": 20,
   "metadata": {},
   "outputs": [
    {
     "data": {
      "text/plain": [
       "array([[1.        , 0.14271568, 0.37817979, 0.27572294],\n",
       "       [0.14271568, 1.        , 0.19456975, 0.23962084],\n",
       "       [0.37817979, 0.19456975, 1.        , 0.41099575],\n",
       "       [0.27572294, 0.23962084, 0.41099575, 1.        ]])"
      ]
     },
     "execution_count": 20,
     "metadata": {},
     "output_type": "execute_result"
    }
   ],
   "source": [
    "# The cosine similarity matrix can be given by:\n",
    "cos_similarity_matrix = (tfidf_matrix * tfidf_matrix.T).toarray()\n",
    "cos_similarity_matrix"
   ]
  },
  {
   "cell_type": "code",
   "execution_count": 21,
   "metadata": {},
   "outputs": [
    {
     "data": {
      "text/plain": [
       "array([[1.        , 0.14271568, 0.37817979, 0.27572294],\n",
       "       [0.14271568, 1.        , 0.19456975, 0.23962084],\n",
       "       [0.37817979, 0.19456975, 1.        , 0.41099575],\n",
       "       [0.27572294, 0.23962084, 0.41099575, 1.        ]])"
      ]
     },
     "execution_count": 21,
     "metadata": {},
     "output_type": "execute_result"
    }
   ],
   "source": [
    "# Summarized way, skipping all the steps (exactly the same results):\n",
    "from sklearn.feature_extraction.text import TfidfVectorizer\n",
    "TfidfVec = TfidfVectorizer(tokenizer=preprocTokens)\n",
    "\n",
    "def cos_similarity(documents_list):\n",
    "    tfidf = TfidfVec.fit_transform(documents_list)\n",
    "    return (tfidf * tfidf.T).toarray()\n",
    "\n",
    "cos_similarity(documents)"
   ]
  },
  {
   "cell_type": "markdown",
   "metadata": {},
   "source": [
    "R: Chesterton's book is the most similar to Alice's Wonderland (cosine similarity of .378)"
   ]
  }
 ],
 "metadata": {
  "kernelspec": {
   "display_name": "Python 3",
   "language": "python",
   "name": "python3"
  },
  "language_info": {
   "codemirror_mode": {
    "name": "ipython",
    "version": 3
   },
   "file_extension": ".py",
   "mimetype": "text/x-python",
   "name": "python",
   "nbconvert_exporter": "python",
   "pygments_lexer": "ipython3",
   "version": "3.6.5"
  }
 },
 "nbformat": 4,
 "nbformat_minor": 2
}
